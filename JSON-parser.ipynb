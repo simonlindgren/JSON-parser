{
 "cells": [
  {
   "cell_type": "markdown",
   "metadata": {},
   "source": [
    "## Parsing JSON files from the Twitter API\n",
    "\n",
    "This notebook was posted by Simon Lindgren // [@simonlindgren](http://www.twitter.com/simonlindgren) // [simonlindgren.com](http://simonlindgren.com).\n",
    "\n",
    "The Twitter APIs, like many other services on the internet, output data in the interchange format [JSON](https://www.copterlabs.com/json-what-it-is-how-it-works-how-to-use-it/). \n",
    "\n",
    "This notebook is about how to [parse](https://en.wikipedia.org/wiki/Parsing) such data into the more accessible format of R dataframes for further analysis or csv export."
   ]
  },
  {
   "cell_type": "code",
   "execution_count": null,
   "metadata": {
    "collapsed": false
   },
   "outputs": [],
   "source": [
    "# Required libraries\n",
    "library(tidyverse)\n",
    "library(jsonlite)"
   ]
  },
  {
   "cell_type": "markdown",
   "metadata": {},
   "source": [
    "### Ingest the JSON"
   ]
  },
  {
   "cell_type": "code",
   "execution_count": null,
   "metadata": {
    "collapsed": true
   },
   "outputs": [],
   "source": [
    "# Read the json file (takes some time, doing this in a Terminal window gives better progress information)\n",
    "tweets <- stream_in(file(\"file.json\"))"
   ]
  },
  {
   "cell_type": "markdown",
   "metadata": {},
   "source": [
    "### Inspect fields\n",
    "Below, we look at top level names of variables in the parsed json. Some of these are dataframes in themselves with more variables nested within them."
   ]
  },
  {
   "cell_type": "code",
   "execution_count": null,
   "metadata": {
    "collapsed": true
   },
   "outputs": [],
   "source": [
    "names(tweets)"
   ]
  },
  {
   "cell_type": "code",
   "execution_count": null,
   "metadata": {
    "collapsed": true
   },
   "outputs": [],
   "source": [
    "class(tweets$created_at) # a character variable, not a dataframe"
   ]
  },
  {
   "cell_type": "code",
   "execution_count": null,
   "metadata": {
    "collapsed": true
   },
   "outputs": [],
   "source": [
    "class(tweets$user) # a dataframe"
   ]
  },
  {
   "cell_type": "markdown",
   "metadata": {},
   "source": [
    "### The `flatten` function in `jsonlite`\n",
    "In a nested data frame, one or more of the columns consist of another data frame. These structures frequently appear when parsing json data from the web. We can flatten such data frames into a regular 2 dimensional tabular structure."
   ]
  },
  {
   "cell_type": "code",
   "execution_count": null,
   "metadata": {
    "collapsed": true
   },
   "outputs": [],
   "source": [
    "tweets_flat <- flatten (tweets, recursive = TRUE)"
   ]
  },
  {
   "cell_type": "markdown",
   "metadata": {},
   "source": [
    "##### Make it a [tibble](https://cran.r-project.org/web/packages/tibble/vignettes/tibble.html)"
   ]
  },
  {
   "cell_type": "code",
   "execution_count": null,
   "metadata": {
    "collapsed": false
   },
   "outputs": [],
   "source": [
    "tweets_tbl <- as_data_frame(tweets_flat) # to tibble ()\n",
    "twts <- tweets_tbl"
   ]
  },
  {
   "cell_type": "markdown",
   "metadata": {},
   "source": [
    "###### Keep flattening"
   ]
  },
  {
   "cell_type": "code",
   "execution_count": null,
   "metadata": {
    "collapsed": false
   },
   "outputs": [],
   "source": [
    "# We now have many more variables\n",
    "names(twts)"
   ]
  },
  {
   "cell_type": "code",
   "execution_count": null,
   "metadata": {
    "collapsed": true
   },
   "outputs": [],
   "source": [
    "# We can flatten once again to make even more variables jump out\n",
    "twts <- flatten(twts)\n",
    "names(twts)"
   ]
  },
  {
   "cell_type": "code",
   "execution_count": null,
   "metadata": {
    "collapsed": true
   },
   "outputs": [],
   "source": [
    "class(twts$coordinates.coordinates) # a variable resulting from the second round of flattening"
   ]
  },
  {
   "cell_type": "code",
   "execution_count": null,
   "metadata": {
    "collapsed": false
   },
   "outputs": [],
   "source": [
    "twts$retweeted_status.user.description # we can inspect any column (for example this one)"
   ]
  },
  {
   "cell_type": "markdown",
   "metadata": {},
   "source": [
    "## Export custom csvs"
   ]
  },
  {
   "cell_type": "code",
   "execution_count": null,
   "metadata": {
    "collapsed": false
   },
   "outputs": [],
   "source": [
    "# DATE AND TEXT\n",
    "date_text <- data_frame (date = twts$created_at, text = gsub(\"[\\r\\n]\", \"\", twts$text))\n",
    "date_text\n",
    "write.csv(date_text, file = \"date_text.csv\")"
   ]
  },
  {
   "cell_type": "code",
   "execution_count": null,
   "metadata": {
    "collapsed": false
   },
   "outputs": [],
   "source": [
    "# SOURCE AND TARGET\n",
    "source_target <- data_frame (source = twts$user.screen_name, target = twts$in_reply_to_screen_name)\n",
    "source_target <- source_target %>%\n",
    "    filter(!is.na(target)) # filter away lines where target is NA\n",
    "source_target\n",
    "write.csv(source_target, file = \"source_target.csv\", row.names=FALSE)"
   ]
  },
  {
   "cell_type": "code",
   "execution_count": null,
   "metadata": {
    "collapsed": false
   },
   "outputs": [],
   "source": [
    "# SELF-REPORTED vs GEO-TAGGED LOCATION\n",
    "place_place <- data_frame (self_reported = twts$user.location, geo_tagged = twts$place.full_name)\n",
    "place_place <- place_place %>%\n",
    "    filter(!is.na(geo_tagged)) %>% # filter away lines where geotag is NA\n",
    "    filter(!is.na(self_reported)) # filter away lines where self-reported location is NA\n",
    "place_place\n",
    "write.csv(place_place, file = \"place_place.csv\", row.names=FALSE)"
   ]
  },
  {
   "cell_type": "markdown",
   "metadata": {},
   "source": [
    "And so on ..."
   ]
  }
 ],
 "metadata": {
  "kernelspec": {
   "display_name": "R",
   "language": "R",
   "name": "ir"
  },
  "language_info": {
   "codemirror_mode": "r",
   "file_extension": ".r",
   "mimetype": "text/x-r-source",
   "name": "R",
   "pygments_lexer": "r",
   "version": "3.3.2"
  }
 },
 "nbformat": 4,
 "nbformat_minor": 2
}
